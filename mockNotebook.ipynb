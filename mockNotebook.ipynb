{
 "cells": [
  {
   "cell_type": "markdown",
   "metadata": {},
   "source": [
    "Using this to write out my resume, then copying it. \n",
    "\n",
    "Would be a fun project to do this automatically, now that I have all the styling etc. for it :) "
   ]
  },
  {
   "cell_type": "markdown",
   "metadata": {},
   "source": [
    "# Daniel McCann-Sayles' Portfolio"
   ]
  },
  {
   "cell_type": "markdown",
   "metadata": {},
   "source": [
    "### Summary"
   ]
  },
  {
   "cell_type": "markdown",
   "metadata": {},
   "source": [
    "<p style=\"display: flex; justify-content: space-between; right-margin: 50px \">\n",
    "  <span>Cisco</span>\n",
    "  <span \">thing2</span>\n",
    "</p>"
   ]
  },
  {
   "cell_type": "markdown",
   "metadata": {},
   "source": [
    "Summary :p"
   ]
  },
  {
   "cell_type": "markdown",
   "metadata": {},
   "source": [
    "### Work Experience"
   ]
  },
  {
   "cell_type": "markdown",
   "metadata": {},
   "source": []
  },
  {
   "cell_type": "markdown",
   "metadata": {},
   "source": [
    "Cisco - Intern"
   ]
  },
  {
   "cell_type": "markdown",
   "metadata": {},
   "source": [
    "### Projects"
   ]
  },
  {
   "cell_type": "markdown",
   "metadata": {},
   "source": []
  },
  {
   "cell_type": "markdown",
   "metadata": {},
   "source": [
    "##### Notebook portfolio\n",
    "\n",
    "ongoing..."
   ]
  },
  {
   "cell_type": "markdown",
   "metadata": {},
   "source": [
    "##### Kid Fight Game"
   ]
  },
  {
   "cell_type": "markdown",
   "metadata": {},
   "source": [
    "##### MACM exploration"
   ]
  },
  {
   "cell_type": "markdown",
   "metadata": {},
   "source": [
    "##### AI Generation"
   ]
  },
  {
   "cell_type": "code",
   "execution_count": null,
   "metadata": {},
   "outputs": [],
   "source": [
    "# Code to detect common signature chunks ----------\n",
    "\n",
    "from sentence_transformers import SentenceTransformer, util\n",
    "\n",
    "# Load a pre-trained Sentence-BERT model\n",
    "model = SentenceTransformer('all-MiniLM-L6-v2')\n",
    "\n",
    "# Vectorize the known signature chunks\n",
    "signature_embeddings = model.encode(known_signature_chunks, convert_to_tensor=True)\n",
    "\n",
    "# Pre-vectorize searchable text, broken down by sentence level\n",
    "def vectorize_text_by_sentences(text: str, model: SentenceTransformer):\n",
    "    sentences = text.splitlines()\n",
    "    sentence_embeddings = model.encode(sentences, convert_to_tensor=True)\n",
    "    return sentences, sentence_embeddings\n",
    "\n",
    "def remove_signature_chunks(trailing_addition: str, signature_embeddings, model: SentenceTransformer, threshold=0.6):\n",
    "    lines, sentence_embeddings = vectorize_text_by_sentences(trailing_addition, model)\n",
    "\n",
    "     # Sliding window approach to match and remove signatures\n",
    "    for start in range(len(lines)):\n",
    "        for window_size in range(1, len(lines) - start + 1):\n",
    "            # Extract the embeddings for the current window of sentences\n",
    "            window_embeddings = sentence_embeddings[start:start + window_size]\n",
    "            combined_window_embedding = window_embeddings.mean(dim=0, keepdim=True)\n",
    "\n",
    "            # Calculate cosine similarity between the current window and known signature embeddings\n",
    "            cosine_scores = util.cos_sim(combined_window_embedding, signature_embeddings)\n",
    "            max_score = max(cosine_scores[0])\n",
    "\n",
    "            # If the maximum similarity score exceeds the threshold\n",
    "            if max_score > threshold:\n",
    "                print(f\"Match: {max_score:.4f}\")\n",
    "               # Remove all lines after the match\n",
    "                remaining_text = \"\\n\".join(lines[:start])\n",
    "                print(f\"Remaining text after removal:\\n{remaining_text}\")\n",
    "                return remaining_text\n",
    "\n",
    "    # If no match is found, return False\n",
    "    return False"
   ]
  },
  {
   "cell_type": "markdown",
   "metadata": {},
   "source": [
    "##### Speech to LLM App\n"
   ]
  },
  {
   "cell_type": "markdown",
   "metadata": {},
   "source": [
    "I think well when walking, and I would like to be able to brainstorm ideas while in that flow state. Going back for my computer or pulling out my phone often interrupts what I'm thinking. It would be nice to have voice transcribed notes.\n",
    "\n",
    "Additionally, I find that a conversational dialog is conducive to developing better ideas. I worked on this for a couple of weeks in July while I had some free time. \n",
    "\n",
    "The idea is simple ->\n",
    "1. A basic iOS app that sends audio to a Node server on my computer. \n",
    "\n",
    "CODE\n",
    "\n",
    "2. The Node server transcribes the audio and listens for a wake word. \n",
    "\n",
    "CODE\n",
    "\n",
    "\n",
    "3. Upon this wake word a call to ChatGPT is triggered with the past `x` amount of context. This \n",
    "\n",
    "CODE\n",
    "\n",
    "\n",
    "4. All the transcribed audio and responses are kept as notes.\n",
    "\n",
    "CODE\n",
    "\n",
    "\n",
    "Some things I considered doing but didn’t get around to were:\n",
    "1. Adding keywords that could create new notes, or give the context of the previous x lines of notes to ChatGPT, along with a command to format it in some way.\n",
    "2. More generally, giving more options to ChatGPT - e.g. searching, or custom function calling. \n",
    "\n",
    "I stopped this project because I wasn't convinced I was actually getting more benefit out of it than going on a walk to clear my mind and then writing on my computer. \n",
    "\n",
    "I still think that a `perfect` AI assistant with transcription and note taking and function calling, *AND* a LLM re-writing the notes for clarity/ future reference, or some sort of mental model, would be *decently* useful.\n",
    "\n",
    "Unforunately this would require:\n",
    "1. Much more development & edge case debugging\n",
    "2. A period of adaptation for me => I found that I mumble a lot, and directly turning my thoughts into words *coherently enough* is harder than I thought. \n",
    "\n",
    "And I was not ready to commit to both of these. \n",
    "\n",
    "Takeaways:\n",
    "1. I do not enjoy Swift - However, I was able to hack together an app using a lot of ChatGPT and debugging. \n",
    "    \n",
    "    > Tech stacks are just *tools* that allow you to do *things*. Doing *things* is what’s important. \n",
    "2. I didn’t have a measurable goal for this prototype stage - \n",
    "    1. As I mentioned above, the stage I reached was not super helpful to me, which meant I wasn't able to validate this project super well. \n",
    "    2. It’s important to build in measurable outcomes to prototype stages - how can I validate if this idea is *worth continuing*? What value can I derive from *each stage*\n",
    "\n",
    "Overall, I learned a bit about calling LLMs, voice recording, audio processing, node Streams, and node servers.\n",
    "got a good benchmark for how well I could do something technically unfamiliar with ChatGPT. \n",
    "\n",
    "Chips => LLMs, Node, Streams, Swift"
   ]
  },
  {
   "cell_type": "markdown",
   "metadata": {},
   "source": [
    "##### Cisco Hackathon"
   ]
  },
  {
   "cell_type": "markdown",
   "metadata": {},
   "source": [
    "I competed in an internal Cisco hackathon to explore how we could improve  customer experience use cases with AI. \n",
    "\n",
    "My team won 1st place out of over 20 teams!\n",
    "\n",
    "The compeotition took place over the span of two weeks. It was hosted by a different organization in Cisco, so it was different products and a different setting than I'm used to. Luckily my team had some experience we were able to draw on.\n",
    "\n",
    "I had a lot of fun meeting people, collaborating, and creating our project. \n",
    "\n",
    "\n",
    "I played a few key roles on the team: \n",
    "1. Collaborating closely with our team lead to hash out his ideas and customer knowledge, and come up with a winning idea. He has a lot of knowledge around the specific field; *together* we were able to turn this into an implementation. \n",
    "2. Executing on this; I quickly learned how to build, and built, a smart AI assistant using Streamlit and a RAG system with FAISS and LangChain.\n",
    "\n",
    "This showcases my holistic skill set. <span id=\"text-accent\">I’m at my best when I have the ability to work closely with the product, with stakeholders, and with the implementation itself!</span>\n",
    "\n",
    "My team lead graciously said this about me:\n",
    "\n",
    "> \"Daniel continuously demonstrated his ability to navigate high-level business strategy and translate that into ideas, concepts, code, and connections that support the achievement of those goals.\"\n",
    "\n",
    "** add some more about this showing my ideation, prototyping, and ability to see the big picture, while also coding it! **\n"
   ]
  }
 ],
 "metadata": {
  "language_info": {
   "name": "python"
  }
 },
 "nbformat": 4,
 "nbformat_minor": 2
}
