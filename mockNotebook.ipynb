{
 "cells": [
  {
   "cell_type": "markdown",
   "metadata": {},
   "source": [
    "Using this to write out my resume, then copying it. \n",
    "\n",
    "Would be a fun project to do this automatically, now that I have all the styling etc. for it :) "
   ]
  },
  {
   "cell_type": "markdown",
   "metadata": {},
   "source": [
    "# Daniel McCann-Sayles' Portfolio"
   ]
  },
  {
   "cell_type": "markdown",
   "metadata": {},
   "source": [
    "### Summary"
   ]
  },
  {
   "cell_type": "markdown",
   "metadata": {},
   "source": [
    "<p style=\"display: flex; justify-content: space-between; right-margin: 50px \">\n",
    "  <span>Cisco</span>\n",
    "  <span \">thing2</span>\n",
    "</p>"
   ]
  },
  {
   "cell_type": "markdown",
   "metadata": {},
   "source": [
    "Summary :p"
   ]
  },
  {
   "cell_type": "markdown",
   "metadata": {},
   "source": [
    "### Work Experience"
   ]
  },
  {
   "cell_type": "markdown",
   "metadata": {},
   "source": []
  },
  {
   "cell_type": "markdown",
   "metadata": {},
   "source": [
    "Cisco - Intern"
   ]
  },
  {
   "cell_type": "markdown",
   "metadata": {},
   "source": [
    "### Projects"
   ]
  },
  {
   "cell_type": "markdown",
   "metadata": {},
   "source": []
  },
  {
   "cell_type": "markdown",
   "metadata": {},
   "source": [
    "##### Notebook portfolio\n",
    "\n",
    "ongoing..."
   ]
  },
  {
   "cell_type": "markdown",
   "metadata": {},
   "source": [
    "##### Kid Fight Game"
   ]
  },
  {
   "cell_type": "markdown",
   "metadata": {},
   "source": [
    "##### MACM exploration"
   ]
  },
  {
   "cell_type": "markdown",
   "metadata": {},
   "source": [
    "##### AI Generation"
   ]
  },
  {
   "cell_type": "markdown",
   "metadata": {},
   "source": [
    "##### Speech to LLM App\n"
   ]
  },
  {
   "cell_type": "markdown",
   "metadata": {},
   "source": [
    "I wanted to take better notes/ have a personal AI assistant.  \n",
    "I worked on this for a couple of weeks in July while I had some free time. \n",
    "\n",
    "I like to talk to myself when walking, and I would like to be able to brainstorm ideas. \n",
    "Ideally I could offload some cognitive tasks, such as recalling or looking things up. I also find that in a back and forth manner I can come up with better ideas.\n",
    "\n",
    "To do this I made a very simple iOS app that sends audio to a node server that transcribes the audio and listens for a wake word. Upon this wake word a call to ChatGPT is triggered with the past context. The iOS app receives this audio.\n",
    "\n",
    "All the audio is also transcribed and kept as notes. I also explored using calls to ChatGPT to clean up this audio, though this naive approach didn’t work super well. \n",
    "\n",
    "Some things I considered doing but didn’t get around to were:\n",
    "1. Adding keywords that could create new notes, or give the context of the previous x lines of notes to ChatGPT, along with a command to format it in some way.\n",
    "2. More generally, giving more options to ChatGPT - e.g. searching, or custom function calling. \n",
    "\n",
    "Takeaways:\n",
    "1. I do not enjoy Swift. I was able to hack together an app using a lot of ChatGPT and debugging. \n",
    "    \n",
    "    > Tech stacks are just *tools* that allow you to do *things*. Doing *things* is what’s important. \n",
    "2. I struggled with audio transcription - I tend to mumble and the transcriber I was using did not like that.\n",
    "3. I didn’t have a measurable goal - \n",
    "    1. I stopped working on this because it wasn’t giving validation\n",
    "    2. It’s important to build in measurable outcomes to prototype stages - how can I validate if this idea is *worth continuing*? What value can I derive from *each stage*\n",
    "\n"
   ]
  },
  {
   "cell_type": "markdown",
   "metadata": {},
   "source": [
    "##### Cisco Hackathon"
   ]
  },
  {
   "cell_type": "markdown",
   "metadata": {},
   "source": [
    "I competed in an internal Cisco hackathon to explore how we could improve  customer experience use cases with AI. \n",
    "\n",
    "My team won 1st place out of over 20 teams!\n",
    "\n",
    "The compeotition took place over the span of two weeks. It was hosted by a different organization in Cisco, so it was different products and a different setting than I'm used to. Luckily my team had some experience we were able to draw on.\n",
    "\n",
    "I had a lot of fun meeting people, collaborating, and creating our project. \n",
    "\n",
    "\n",
    "I played a few key roles on the team: \n",
    "1. Collaborating closely with our team lead to hash out his ideas and customer knowledge, and come up with a winning idea. He has a lot of knowledge around the specific field; *together* we were able to turn this into an implementation. \n",
    "2. Executing on this; I quickly learned how to build, and built, a smart AI assistant using Streamlit and a RAG system with FAISS and LangChain.\n",
    "\n",
    "This showcases my holistic skill set. <span id=\"text-accent\">I’m at my best when I have the ability to work closely with the product, with stakeholders, and with the implementation itself!</span>\n",
    "\n",
    "My team lead graciously said this about me:\n",
    "\n",
    "> \"Daniel continuously demonstrated his ability to navigate high-level business strategy and translate that into ideas, concepts, code, and connections that support the achievement of those goals.\"\n",
    "\n",
    "** add some more about this showing my ideation, prototyping, and ability to see the big picture, while also coding it! **\n"
   ]
  }
 ],
 "metadata": {
  "language_info": {
   "name": "python"
  }
 },
 "nbformat": 4,
 "nbformat_minor": 2
}
